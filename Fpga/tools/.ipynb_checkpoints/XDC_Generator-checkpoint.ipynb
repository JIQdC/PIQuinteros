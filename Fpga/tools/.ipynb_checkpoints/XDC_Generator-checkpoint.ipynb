{
 "cells": [
  {
   "cell_type": "code",
   "execution_count": 1,
   "metadata": {},
   "outputs": [],
   "source": [
    "import numpy as np\n",
    "import sys"
   ]
  },
  {
   "cell_type": "code",
   "execution_count": 2,
   "metadata": {},
   "outputs": [],
   "source": [
    "pin_name = np.loadtxt('ADC_Pins.csv',dtype=str,delimiter=',',usecols=0)\n",
    "pin_tag = np.loadtxt('ADC_Pins.csv',dtype=str,delimiter=',',usecols=1)\n",
    "pin_bank = np.loadtxt('ADC_Pins.csv',delimiter=',',usecols=2)\n",
    "\n",
    "fout = open('adc_constraints.xdc','w')\n",
    "\n",
    "original_stdout = sys.stdout\n",
    "sys.stdout = fout"
   ]
  },
  {
   "cell_type": "code",
   "execution_count": 3,
   "metadata": {},
   "outputs": [],
   "source": [
    "clk_divider = 1\n",
    "clk_period = clk_divider/0.455 #ns\n",
    "data_transition = 0.100        #ns\n",
    "delay_min = 0.25*clk_period - 0.5*data_transition\n",
    "delay_max = 0.25*clk_period + 0.5*data_transition"
   ]
  },
  {
   "cell_type": "code",
   "execution_count": 4,
   "metadata": {},
   "outputs": [],
   "source": [
    "data_pin_name=pin_name[:32]\n",
    "data_pin_tag=pin_tag[:32]\n",
    "data_pin_bank=pin_bank[:32]\n",
    "\n",
    "DCO1_pin_name=pin_name[32:34]\n",
    "DCO1_pin_tag=pin_tag[32:34]\n",
    "DCO2_pin_name=pin_name[34:36]\n",
    "DCO2_pin_tag=pin_tag[34:36]\n",
    "FCO_pin_name=pin_name[36:40]\n",
    "FCO_pin_tag=pin_tag[36:40]\n",
    "FCO_pin_bank=pin_bank[36:40]"
   ]
  },
  {
   "cell_type": "code",
   "execution_count": 5,
   "metadata": {},
   "outputs": [],
   "source": [
    "#constrain DCO1\n",
    "clk_DCO1_name = \"adc_DCO1\"\n",
    "print(\"#adc_DCO1- @bank13\")\n",
    "print(\"set_property PACKAGE_PIN \"+DCO1_pin_tag[0]+\" [get_ports adc_DCO1_i_clk_n]\")\n",
    "print(\"set_property IOSTANDARD LVDS_25 [get_ports adc_DCO1_i_clk_n]\")\n",
    "print(\"#adc_DCO1+ @bank13\")\n",
    "print(\"set_property PACKAGE_PIN \"+DCO1_pin_tag[1]+\" [get_ports adc_DCO1_i_clk_p]\")\n",
    "print(\"set_property IOSTANDARD LVDS_25 [get_ports adc_DCO1_i_clk_p]\")\n",
    "print(\"\")\n",
    "print(\"#\"+clk_DCO1_name+\" clock creation\")\n",
    "print(\"create_clock -period \"+str(clk_period)+\" -name \"+clk_DCO1_name+\" [get_ports adc_DCO1_i_clk_p]\")\n",
    "print(\"set_input_jitter [get_clocks \"+clk_DCO1_name+\"] 0.000\")\n",
    "print(\"\")"
   ]
  },
  {
   "cell_type": "code",
   "execution_count": 6,
   "metadata": {},
   "outputs": [],
   "source": [
    "#constrain DCO2\n",
    "clk_DCO2_name = \"adc_DCO2\"\n",
    "print(\"#adc_DCO2- @bank12\")\n",
    "print(\"set_property PACKAGE_PIN \"+DCO2_pin_tag[0]+\" [get_ports adc_DCO2_i_clk_n]\")\n",
    "print(\"set_property IOSTANDARD LVDS_25 [get_ports adc_DCO2_i_clk_n]\")\n",
    "print(\"#adc_DCO2+ @bank13\")\n",
    "print(\"set_property PACKAGE_PIN \"+DCO2_pin_tag[1]+\" [get_ports adc_DCO2_i_clk_p]\")\n",
    "print(\"set_property IOSTANDARD LVDS_25 [get_ports adc_DCO2_i_clk_p]\")\n",
    "print(\"\")\n",
    "print(\"#\"+clk_DCO2_name+\" clock creation\")\n",
    "print(\"create_clock -period \"+str(clk_period)+\" -name \"+clk_DCO2_name+\" [get_ports adc_DCO2_i_clk_p]\")\n",
    "print(\"set_input_jitter [get_clocks \"+clk_DCO2_name+\"] 0.000\")\n",
    "print(\"\")"
   ]
  },
  {
   "cell_type": "code",
   "execution_count": 7,
   "metadata": {},
   "outputs": [],
   "source": [
    "#frame constraining\n",
    "port=\"\"\n",
    "line=\"\"\n",
    "clock=\"\"\n",
    "for i in range(0,np.size(FCO_pin_name)):\n",
    "    line=\"# adc_\"+FCO_pin_name[i]\n",
    "    if(FCO_pin_bank[i]):\n",
    "        line += \" @bank13\"\n",
    "        clock = clk_DCO1_name\n",
    "    else:\n",
    "        line += \" @bank12\"\n",
    "        clock = clk_DCO2_name\n",
    "    print(line)\n",
    "    port=\"adc_\"+FCO_pin_name[i][:-1]+\"_i_v_\"\n",
    "    if(i%2 == 0):\n",
    "        port = port + \"n\"\n",
    "    else:\n",
    "        port = port + \"p\"\n",
    "    print(\"set_property PACKAGE_PIN \"+FCO_pin_tag[i]+\" [get_ports \"+port+\"]\")\n",
    "    print(\"set_property IOSTANDARD LVDS_25 [get_ports \"+port+\"]\")\n",
    "    print(\"set_input_delay -clock [get_clocks \"+clock+\"] -clock_fall -min -add_delay \"+str(delay_min)+\" [get_ports \"+port+\"]\")\n",
    "    print(\"set_input_delay -clock [get_clocks \"+clock+\"] -clock_fall -max -add_delay \"+str(delay_max)+\" [get_ports \"+port+\"]\")\n",
    "    print(\"set_input_delay -clock [get_clocks \"+clock+\"] -min -add_delay \"+str(delay_min)+\" [get_ports \"+port+\"]\")\n",
    "    print(\"set_input_delay -clock [get_clocks \"+clock+\"] -max -add_delay \"+str(delay_max)+\" [get_ports \"+port+\"]\")\n",
    "    print(\"\")\n",
    "    \n"
   ]
  },
  {
   "cell_type": "code",
   "execution_count": 8,
   "metadata": {},
   "outputs": [],
   "source": [
    "#data constraining\n",
    "port=\"\"\n",
    "line=\"\"\n",
    "clock=\"\"\n",
    "j=0\n",
    "for i in range(0,np.size(data_pin_name)):\n",
    "    line=\"# adc_\"+data_pin_name[i]\n",
    "    if(data_pin_bank[i]):\n",
    "        line += \" @bank13\"\n",
    "        clock = clk_DCO1_name\n",
    "    else:\n",
    "        line += \" @bank12\"\n",
    "        clock = clk_DCO2_name\n",
    "    print(line)\n",
    "    port=\"adc_data_i_v_\"\n",
    "    if(i%2 == 0):\n",
    "        port += \"n\"\n",
    "    else:\n",
    "        port += \"p\"\n",
    "    port += \"[\"+str(j)+\"]\"\n",
    "    print(\"set_property PACKAGE_PIN \"+data_pin_tag[i]+\" [get_ports \"+port+\"]\")\n",
    "    print(\"set_property IOSTANDARD LVDS_25 [get_ports \"+port+\"]\")\n",
    "    print(\"set_input_delay -clock [get_clocks \"+clock+\"] -clock_fall -min -add_delay \"+str(delay_min)+\" [get_ports \"+port+\"]\")\n",
    "    print(\"set_input_delay -clock [get_clocks \"+clock+\"] -clock_fall -max -add_delay \"+str(delay_max)+\" [get_ports \"+port+\"]\")\n",
    "    print(\"set_input_delay -clock [get_clocks \"+clock+\"] -min -add_delay \"+str(delay_min)+\" [get_ports \"+port+\"]\")\n",
    "    print(\"set_input_delay -clock [get_clocks \"+clock+\"] -max -add_delay \"+str(delay_max)+\" [get_ports \"+port+\"]\")\n",
    "    print(\"\")\n",
    "    if(i%2 != 0):\n",
    "        j += 1"
   ]
  },
  {
   "cell_type": "code",
   "execution_count": 9,
   "metadata": {},
   "outputs": [],
   "source": [
    "sys.stdout = original_stdout\n",
    "fout.close()"
   ]
  }
 ],
 "metadata": {
  "kernelspec": {
   "display_name": "Python 3",
   "language": "python",
   "name": "python3"
  },
  "language_info": {
   "codemirror_mode": {
    "name": "ipython",
    "version": 3
   },
   "file_extension": ".py",
   "mimetype": "text/x-python",
   "name": "python",
   "nbconvert_exporter": "python",
   "pygments_lexer": "ipython3",
   "version": "3.8.3"
  }
 },
 "nbformat": 4,
 "nbformat_minor": 4
}
